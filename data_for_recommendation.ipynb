{
 "cells": [
  {
   "cell_type": "code",
   "execution_count": 4,
   "metadata": {},
   "outputs": [],
   "source": [
    "import pandas as pd"
   ]
  },
  {
   "cell_type": "code",
   "execution_count": 5,
   "metadata": {},
   "outputs": [
    {
     "data": {
      "text/plain": [
       "'fish_demand_dataset_india_2000.csv'"
      ]
     },
     "execution_count": 5,
     "metadata": {},
     "output_type": "execute_result"
    }
   ],
   "source": [
    "# Adjusting the generation process to create a dataset with exactly 2000 entries\n",
    "# Define all Indian states and fish types again for clarity in this standalone code block\n",
    "\n",
    "import pandas as pd\n",
    "import numpy as np\n",
    "\n",
    "# Seed for reproducibility\n",
    "np.random.seed(42)\n",
    "\n",
    "# Fish types and Indian states defined previously\n",
    "fish_types = [\n",
    "    \"Gilt Head Bream\", \"Red Sea Bream\", \"Sea Bass\", \"Red Mullet\", \"Horse Mackerel\",\n",
    "    \"Black Sea Sprat\", \"Striped Red Mullet\", \"Trout\", \"Shrimp\"\n",
    "]\n",
    "\n",
    "all_states = [\n",
    "    \"Andhra Pradesh\", \"Arunachal Pradesh\", \"Assam\", \"Bihar\", \"Chhattisgarh\", \"Goa\",\n",
    "    \"Gujarat\", \"Haryana\", \"Himachal Pradesh\", \"Jharkhand\", \"Karnataka\", \"Kerala\",\n",
    "    \"Madhya Pradesh\", \"Maharashtra\", \"Manipur\", \"Meghalaya\", \"Mizoram\", \"Nagaland\",\n",
    "    \"Odisha\", \"Punjab\", \"Rajasthan\", \"Sikkim\", \"Tamil Nadu\", \"Telangana\", \"Tripura\",\n",
    "    \"Uttar Pradesh\", \"Uttarakhand\", \"West Bengal\", \"Andaman and Nicobar Islands\",\n",
    "    \"Chandigarh\", \"Dadra and Nagar Haveli and Daman and Diu\", \"Delhi\", \"Lakshadweep\",\n",
    "    \"Puducherry\"\n",
    "]\n",
    "\n",
    "# Calculate how many entries per fish type per state to reach 2000 entries\n",
    "entries_per_state_per_fish = 2000 // (len(all_states) * len(fish_types))\n",
    "\n",
    "# Generate the dataset\n",
    "data = []\n",
    "for state in all_states:\n",
    "    for fish in fish_types:\n",
    "        for _ in range(entries_per_state_per_fish):\n",
    "            average_consumption = np.random.uniform(5, 20)  # in tons\n",
    "            preferred_size = np.random.uniform(10, 40)  # in cm\n",
    "            price_range_low = np.random.uniform(200, 500)  # in INR per kg\n",
    "            price_range_high = price_range_low + np.random.uniform(50, 150)  # in INR per kg\n",
    "            seasonal_availability = np.random.choice(['Year-round', 'Seasonal'])\n",
    "            \n",
    "            data.append({\n",
    "                \"State\": state,\n",
    "                \"Fish Type\": fish,\n",
    "                \"Average Consumption (tons)\": round(average_consumption, 2),\n",
    "                \"Preferred Size (cm)\": round(preferred_size, 2),\n",
    "                \"Price Range (INR per kg)\": f\"{round(price_range_low, 2)} - {round(price_range_high, 2)}\",\n",
    "                \"Seasonal Availability\": seasonal_availability\n",
    "            })\n",
    "\n",
    "# Create DataFrame\n",
    "df = pd.DataFrame(data)\n",
    "\n",
    "# Save to CSV\n",
    "csv_path = 'fish_demand_dataset_india_2000.csv'\n",
    "df.to_csv(csv_path, index=False)\n",
    "\n",
    "csv_path\n"
   ]
  },
  {
   "cell_type": "code",
   "execution_count": 4,
   "metadata": {},
   "outputs": [],
   "source": [
    "import pandas as pd\n",
    "import numpy as np\n",
    "df=pd.read_csv(\"fish_demand_dataset_india_2000.csv\")"
   ]
  },
  {
   "cell_type": "code",
   "execution_count": 8,
   "metadata": {},
   "outputs": [
    {
     "name": "stdout",
     "output_type": "stream",
     "text": [
      "Recommendations for Kerala:\n",
      "['Horse Mackerel', 'Sea Bass', 'Striped Red Mullet']\n"
     ]
    }
   ],
   "source": [
    "from scipy.sparse import csr_matrix\n",
    "from scipy.sparse.linalg import svds\n",
    "import numpy as np\n",
    "import pandas as pd\n",
    "\n",
    "def fish_recommendations_for_state(state, df):\n",
    "    # Create a user-item matrix where rows represent states, columns represent fish types, and values represent consumption\n",
    "    user_item_matrix = df.pivot_table(index='State', columns='Fish Type', values='Average Consumption (tons)', fill_value=0)\n",
    "\n",
    "    # Convert user-item matrix to sparse matrix\n",
    "    sparse_matrix = csr_matrix(user_item_matrix.values)\n",
    "\n",
    "    # Perform SVD\n",
    "    k = min(user_item_matrix.shape) - 1  # Number of latent factors (choose one less than the smaller dimension)\n",
    "    U, sigma, Vt = svds(sparse_matrix, k=k)\n",
    "\n",
    "    # Reconstruct the matrix\n",
    "    predicted_consumption = np.dot(np.dot(U, np.diag(sigma)), Vt)\n",
    "\n",
    "    # Convert the predicted consumption to DataFrame\n",
    "    predicted_df = pd.DataFrame(predicted_consumption, columns=user_item_matrix.columns, index=user_item_matrix.index)\n",
    "\n",
    "    # Get predicted consumption for the given state\n",
    "    state_consumption = predicted_df.loc[state]\n",
    "\n",
    "    # Sort fish types by predicted consumption and recommend the top ones\n",
    "    recommended_fish = state_consumption.sort_values(ascending=False).head(3)\n",
    "    \n",
    "    return recommended_fish.index.tolist()\n",
    "\n",
    "# Example usage:\n",
    "state = \"Kerala\"  # You can change this to any state\n",
    "recommendations = fish_recommendations_for_state(state, df)\n",
    "print(f\"Recommendations for {state}:\")\n",
    "print(recommendations)\n"
   ]
  },
  {
   "cell_type": "code",
   "execution_count": 6,
   "metadata": {},
   "outputs": [
    {
     "name": "stdout",
     "output_type": "stream",
     "text": [
      "Demand info for Sea Bass:\n",
      "Average consumption: 12.71 tons\n",
      "Preferred size: 26.29 cm\n",
      "Price range: INR 342.75 - 443.39 per kg\n",
      "Seasonal availability: Seasonal\n"
     ]
    }
   ],
   "source": [
    "import pandas as pd\n",
    "\n",
    "def fish_demand_info(fish_name, df):\n",
    "    # Filter the DataFrame for the given fish name\n",
    "    fish_data = df[df['Fish Type'] == fish_name]\n",
    "    \n",
    "    # Check if data for the fish exists\n",
    "    if fish_data.empty:\n",
    "        return f\"No information available for {fish_name}\"\n",
    "    \n",
    "    # Calculate statistics\n",
    "    avg_consumption = fish_data['Average Consumption (tons)'].mean()\n",
    "    preferred_size = fish_data['Preferred Size (cm)'].mean()\n",
    "    price_low = fish_data['Price Range (INR per kg)'].apply(lambda x: float(x.split(' - ')[0])).mean()\n",
    "    price_high = fish_data['Price Range (INR per kg)'].apply(lambda x: float(x.split(' - ')[1])).mean()\n",
    "    seasonal_availability = fish_data['Seasonal Availability'].mode().iloc[0]\n",
    "    \n",
    "    # Construct info string\n",
    "    info = f\"Demand info for {fish_name}:\\n\"\n",
    "    info += f\"Average consumption: {avg_consumption:.2f} tons\\n\"\n",
    "    info += f\"Preferred size: {preferred_size:.2f} cm\\n\"\n",
    "    info += f\"Price range: INR {price_low:.2f} - {price_high:.2f} per kg\\n\"\n",
    "    info += f\"Seasonal availability: {seasonal_availability}\"\n",
    "    \n",
    "    return info\n",
    "\n",
    "# Example usage:\n",
    "fish_name = \"Sea Bass\"  # You can change this to any fish name\n",
    "demand_info = fish_demand_info(fish_name, df)\n",
    "print(demand_info)\n"
   ]
  },
  {
   "cell_type": "code",
   "execution_count": null,
   "metadata": {},
   "outputs": [],
   "source": []
  }
 ],
 "metadata": {
  "kernelspec": {
   "display_name": "Python 3",
   "language": "python",
   "name": "python3"
  },
  "language_info": {
   "codemirror_mode": {
    "name": "ipython",
    "version": 3
   },
   "file_extension": ".py",
   "mimetype": "text/x-python",
   "name": "python",
   "nbconvert_exporter": "python",
   "pygments_lexer": "ipython3",
   "version": "3.10.8"
  }
 },
 "nbformat": 4,
 "nbformat_minor": 2
}
